{
 "cells": [
  {
   "cell_type": "code",
   "execution_count": 2,
   "id": "4a47596f",
   "metadata": {},
   "outputs": [],
   "source": [
    "import pandas as pd"
   ]
  },
  {
   "cell_type": "code",
   "execution_count": 3,
   "id": "b745928d",
   "metadata": {},
   "outputs": [
    {
     "data": {
      "text/html": [
       "<div>\n",
       "<style scoped>\n",
       "    .dataframe tbody tr th:only-of-type {\n",
       "        vertical-align: middle;\n",
       "    }\n",
       "\n",
       "    .dataframe tbody tr th {\n",
       "        vertical-align: top;\n",
       "    }\n",
       "\n",
       "    .dataframe thead th {\n",
       "        text-align: right;\n",
       "    }\n",
       "</style>\n",
       "<table border=\"1\" class=\"dataframe\">\n",
       "  <thead>\n",
       "    <tr style=\"text-align: right;\">\n",
       "      <th></th>\n",
       "      <th>0</th>\n",
       "      <th>1</th>\n",
       "      <th>2</th>\n",
       "      <th>3</th>\n",
       "      <th>4</th>\n",
       "    </tr>\n",
       "  </thead>\n",
       "  <tbody>\n",
       "    <tr>\n",
       "      <th>0</th>\n",
       "      <td>5.1</td>\n",
       "      <td>3.5</td>\n",
       "      <td>1.4</td>\n",
       "      <td>0.2</td>\n",
       "      <td>Iris-setosa</td>\n",
       "    </tr>\n",
       "    <tr>\n",
       "      <th>1</th>\n",
       "      <td>4.9</td>\n",
       "      <td>3.0</td>\n",
       "      <td>1.4</td>\n",
       "      <td>0.2</td>\n",
       "      <td>Iris-setosa</td>\n",
       "    </tr>\n",
       "    <tr>\n",
       "      <th>2</th>\n",
       "      <td>4.7</td>\n",
       "      <td>3.2</td>\n",
       "      <td>1.3</td>\n",
       "      <td>0.2</td>\n",
       "      <td>Iris-setosa</td>\n",
       "    </tr>\n",
       "    <tr>\n",
       "      <th>3</th>\n",
       "      <td>4.6</td>\n",
       "      <td>3.1</td>\n",
       "      <td>1.5</td>\n",
       "      <td>0.2</td>\n",
       "      <td>Iris-setosa</td>\n",
       "    </tr>\n",
       "    <tr>\n",
       "      <th>4</th>\n",
       "      <td>5.0</td>\n",
       "      <td>3.6</td>\n",
       "      <td>1.4</td>\n",
       "      <td>0.2</td>\n",
       "      <td>Iris-setosa</td>\n",
       "    </tr>\n",
       "  </tbody>\n",
       "</table>\n",
       "</div>"
      ],
      "text/plain": [
       "     0    1    2    3            4\n",
       "0  5.1  3.5  1.4  0.2  Iris-setosa\n",
       "1  4.9  3.0  1.4  0.2  Iris-setosa\n",
       "2  4.7  3.2  1.3  0.2  Iris-setosa\n",
       "3  4.6  3.1  1.5  0.2  Iris-setosa\n",
       "4  5.0  3.6  1.4  0.2  Iris-setosa"
      ]
     },
     "execution_count": 3,
     "metadata": {},
     "output_type": "execute_result"
    }
   ],
   "source": [
    "df = pd.read_csv(\n",
    "    \"https://archive.ics.uci.edu/ml/machine-learning-databases/iris/iris.data\",\n",
    "    header=None,\n",
    ")\n",
    "\n",
    "df.head()"
   ]
  },
  {
   "cell_type": "code",
   "execution_count": 4,
   "id": "e28e1533",
   "metadata": {},
   "outputs": [
    {
     "data": {
      "text/plain": [
       "((150, 4), (150,))"
      ]
     },
     "execution_count": 4,
     "metadata": {},
     "output_type": "execute_result"
    }
   ],
   "source": [
    "X = df.values[:, :4].astype(float) # all rows (:), columns 0 -> 3 (:4)\n",
    "y = df.values[:, 4] # all rows (:), 4th column (4)\n",
    "X.shape, y.shape"
   ]
  },
  {
   "cell_type": "code",
   "execution_count": 6,
   "id": "caadc945",
   "metadata": {},
   "outputs": [
    {
     "name": "stdout",
     "output_type": "stream",
     "text": [
      "mask [ True  True  True False False]\n",
      "~mask [False False False  True  True]\n",
      "a[mask] [0 1 2]\n",
      "a[~mask] [3 4]\n"
     ]
    }
   ],
   "source": [
    "import numpy as np\n",
    "\n",
    "a = np.array([0, 1, 2, 3, 4])\n",
    "mask = np.array([True, True, True, False, False])\n",
    "print(\"mask\", mask)\n",
    "print(\"~mask\", ~mask)\n",
    "print(\"a[mask]\", a[mask])\n",
    "print(\"a[~mask]\", a[~mask])"
   ]
  },
  {
   "cell_type": "code",
   "execution_count": 7,
   "id": "566d1fbe",
   "metadata": {},
   "outputs": [
    {
     "data": {
      "text/plain": [
       "array([ True,  True,  True,  True,  True,  True,  True,  True,  True,\n",
       "        True,  True,  True,  True,  True,  True,  True,  True,  True,\n",
       "        True,  True,  True,  True,  True,  True,  True,  True,  True,\n",
       "        True,  True,  True,  True,  True,  True,  True,  True,  True,\n",
       "        True,  True,  True,  True,  True,  True,  True,  True,  True,\n",
       "        True,  True,  True,  True,  True,  True,  True,  True,  True,\n",
       "        True,  True,  True,  True,  True,  True,  True,  True,  True,\n",
       "        True,  True,  True,  True,  True,  True,  True,  True,  True,\n",
       "        True,  True,  True,  True,  True,  True,  True,  True,  True,\n",
       "        True,  True,  True,  True,  True,  True,  True,  True,  True,\n",
       "        True,  True,  True,  True,  True,  True,  True,  True,  True,\n",
       "        True,  True,  True,  True,  True,  True,  True,  True,  True,\n",
       "        True,  True,  True,  True,  True,  True,  True,  True,  True,\n",
       "        True,  True,  True, False, False, False, False, False, False,\n",
       "       False, False, False, False, False, False, False, False, False,\n",
       "       False, False, False, False, False, False, False, False, False,\n",
       "       False, False, False, False, False, False])"
      ]
     },
     "execution_count": 7,
     "metadata": {},
     "output_type": "execute_result"
    }
   ],
   "source": [
    "mask = np.array([True] * 120 + [False] * 30)\n",
    "mask"
   ]
  },
  {
   "cell_type": "code",
   "execution_count": 8,
   "id": "533a6ede",
   "metadata": {},
   "outputs": [
    {
     "data": {
      "text/plain": [
       "array([ True, False,  True,  True,  True, False,  True,  True,  True,\n",
       "        True,  True, False,  True,  True,  True,  True,  True,  True,\n",
       "        True,  True, False,  True,  True,  True,  True, False,  True,\n",
       "        True,  True,  True,  True, False,  True,  True,  True,  True,\n",
       "       False,  True,  True,  True,  True,  True,  True,  True,  True,\n",
       "        True,  True, False,  True,  True,  True,  True,  True,  True,\n",
       "        True,  True,  True,  True, False, False,  True, False,  True,\n",
       "        True,  True, False, False,  True,  True,  True,  True,  True,\n",
       "       False,  True,  True,  True,  True,  True,  True, False, False,\n",
       "        True, False,  True,  True,  True, False,  True,  True, False,\n",
       "       False,  True,  True, False,  True,  True,  True, False,  True,\n",
       "        True,  True, False,  True,  True,  True,  True, False,  True,\n",
       "        True,  True,  True,  True,  True,  True,  True,  True, False,\n",
       "        True,  True,  True,  True,  True,  True,  True,  True,  True,\n",
       "        True, False,  True, False,  True, False,  True,  True, False,\n",
       "        True, False,  True,  True,  True,  True,  True,  True,  True,\n",
       "        True,  True,  True,  True,  True,  True])"
      ]
     },
     "execution_count": 8,
     "metadata": {},
     "output_type": "execute_result"
    }
   ],
   "source": [
    "np.random.shuffle(mask)\n",
    "mask"
   ]
  },
  {
   "cell_type": "code",
   "execution_count": 9,
   "id": "e966462e",
   "metadata": {},
   "outputs": [
    {
     "data": {
      "text/plain": [
       "((120, 4), (30, 4), (120,), (30,))"
      ]
     },
     "execution_count": 9,
     "metadata": {},
     "output_type": "execute_result"
    }
   ],
   "source": [
    "X_train = X[mask]\n",
    "X_test = X[~mask]\n",
    "y_train = y[mask]\n",
    "y_test = y[~mask]\n",
    "(X_train.shape, X_test.shape, y_train.shape, y_test.shape)"
   ]
  },
  {
   "cell_type": "code",
   "execution_count": 10,
   "id": "e080ab18",
   "metadata": {},
   "outputs": [
    {
     "data": {
      "text/plain": [
       "(Counter({'Iris-setosa': 42, 'Iris-versicolor': 36, 'Iris-virginica': 42}),\n",
       " Counter({'Iris-setosa': 8, 'Iris-versicolor': 14, 'Iris-virginica': 8}))"
      ]
     },
     "execution_count": 10,
     "metadata": {},
     "output_type": "execute_result"
    }
   ],
   "source": [
    "from collections import Counter\n",
    "Counter(y_train), Counter(y_test)\n"
   ]
  },
  {
   "cell_type": "code",
   "execution_count": 11,
   "id": "bbf9119e",
   "metadata": {},
   "outputs": [],
   "source": [
    "class KNearestNeighbors:\n",
    "    def __init__(self, k, distance_metric=\"euclidean\"):\n",
    "        self.k = k\n",
    "        self.distance_metric = distance_metric\n",
    "\n",
    "    def fit(self, X, y):\n",
    "        pass\n",
    "\n",
    "    def predict(self, X):\n",
    "        pass"
   ]
  },
  {
   "cell_type": "code",
   "execution_count": 12,
   "id": "1132417f",
   "metadata": {},
   "outputs": [],
   "source": [
    "class KNearestNeighbors:\n",
    "    def __init__(self, k, distance_metric=\"euclidean\"):\n",
    "        self.k = k\n",
    "        self.distance_metric = distance_metric\n",
    "\n",
    "    def fit(self, X_train, y_train):\n",
    "        self.X_train = X_train\n",
    "        self.y_train = y_train\n",
    "\n",
    "    def predict(self, X_test):\n",
    "        pass"
   ]
  },
  {
   "cell_type": "code",
   "execution_count": 13,
   "id": "05e882ff",
   "metadata": {},
   "outputs": [],
   "source": [
    "def naive_distance(X_train, X_test, distance):\n",
    "    distance_matrix = np.zeros((X_train.shape[0], X_test.shape[0]))\n",
    "    for i in range(X_train.shape[0]):\n",
    "        for j in range(X_test.shape[0]):\n",
    "            distance_matrix[i,j] = distance(X_train[i], X_test[j])\n",
    "    return distance_matrix"
   ]
  },
  {
   "cell_type": "code",
   "execution_count": 14,
   "id": "28411ef3",
   "metadata": {},
   "outputs": [],
   "source": [
    "def euclidean_non_numpy(p, q):\n",
    "    cumul = 0\n",
    "    for i in range(len(p)):\n",
    "        cumul += (p[i] - q[i])**2\n",
    "    return cumul ** 0.5\n",
    "    \n",
    "def euclidean_numpy(p, q):\n",
    "    return ((p-q)**2).sum()**.5"
   ]
  },
  {
   "cell_type": "code",
   "execution_count": 15,
   "id": "b8fe8bc0",
   "metadata": {},
   "outputs": [
    {
     "name": "stdout",
     "output_type": "stream",
     "text": [
      "euclidean_non_numpy 4.469971100000009\n",
      "euclidean_numpy 0.15882460000000265\n",
      "Ratio 28.144072769583143\n"
     ]
    }
   ],
   "source": [
    "from timeit import timeit\n",
    "\n",
    "# p and q are 200-dimensional random vectors\n",
    "p = np.random.random(200)\n",
    "q = np.random.random(200)\n",
    "\n",
    "time_nnp = timeit(lambda: euclidean_non_numpy(p,q), number=10000)\n",
    "time_np = timeit(lambda: euclidean_numpy(p,q), number=10000)\n",
    "\n",
    "print(\"euclidean_non_numpy\", time_nnp)\n",
    "print(\"euclidean_numpy\", time_np)\n",
    "print(\"Ratio\", time_nnp/time_np)"
   ]
  },
  {
   "cell_type": "code",
   "execution_count": 16,
   "id": "6e901890",
   "metadata": {},
   "outputs": [
    {
     "data": {
      "text/plain": [
       "(120, 1, 4)"
      ]
     },
     "execution_count": 16,
     "metadata": {},
     "output_type": "execute_result"
    }
   ],
   "source": [
    "X_train_reshaped = np.expand_dims(X_train, 1)\n",
    "X_train_reshaped.shape"
   ]
  },
  {
   "cell_type": "code",
   "execution_count": 18,
   "id": "ee7e7f4b",
   "metadata": {},
   "outputs": [
    {
     "data": {
      "text/plain": [
       "(120, 30, 4)"
      ]
     },
     "execution_count": 18,
     "metadata": {},
     "output_type": "execute_result"
    }
   ],
   "source": [
    "X_diff = X_train_reshaped - X_test\n",
    "X_diff.shape"
   ]
  },
  {
   "cell_type": "code",
   "execution_count": 19,
   "id": "30cf0b8e",
   "metadata": {},
   "outputs": [
    {
     "data": {
      "text/plain": [
       "(120, 30)"
      ]
     },
     "execution_count": 19,
     "metadata": {},
     "output_type": "execute_result"
    }
   ],
   "source": [
    "dist_matrix = ((X_diff**2).sum(axis=2))**.5\n",
    "dist_matrix.shape"
   ]
  },
  {
   "cell_type": "code",
   "execution_count": 20,
   "id": "03a51c0c",
   "metadata": {},
   "outputs": [
    {
     "data": {
      "text/plain": [
       "(2.3043437243605824, 2.3043437243605824)"
      ]
     },
     "execution_count": 20,
     "metadata": {},
     "output_type": "execute_result"
    }
   ],
   "source": [
    "i = 25\n",
    "j = 14\n",
    "dist_matrix[i,j], euclidean_numpy(X_train[i], X_test[j])"
   ]
  },
  {
   "cell_type": "code",
   "execution_count": 21,
   "id": "f11b6085",
   "metadata": {},
   "outputs": [
    {
     "name": "stdout",
     "output_type": "stream",
     "text": [
      "Naive 4.760240999999951\n",
      "Numpy 0.03253129999995963\n",
      "Ratio 146.32802869869505\n"
     ]
    }
   ],
   "source": [
    "def euclidean(X_train, X_test):\n",
    "    X_train_reshaped = np.expand_dims(X_train, 1)\n",
    "    X_diff = X_train_reshaped - X_test\n",
    "    dist_matrix = ((X_diff**2).sum(axis=2))**.5\n",
    "    return dist_matrix\n",
    "\n",
    "X_tr = np.random.random((120, 4))\n",
    "X_te = np.random.random((30, 4))\n",
    "\n",
    "time_naive = timeit(lambda: naive_distance(X_tr, X_te, euclidean_numpy), number=100)\n",
    "time_numpy = timeit(lambda: euclidean(X_tr, X_te), number=100)\n",
    "\n",
    "print(\"Naive\", time_naive)\n",
    "print(\"Numpy\", time_numpy)\n",
    "print(\"Ratio\", time_naive / time_numpy)"
   ]
  },
  {
   "cell_type": "code",
   "execution_count": 22,
   "id": "04a417fd",
   "metadata": {},
   "outputs": [
    {
     "data": {
      "text/plain": [
       "(120, 30)"
      ]
     },
     "execution_count": 22,
     "metadata": {},
     "output_type": "execute_result"
    }
   ],
   "source": [
    "dot_prods = X_train @ X_test.T # the @ operator is a short-hand for the matrix multiplication function\n",
    "dot_prods.shape"
   ]
  },
  {
   "cell_type": "code",
   "execution_count": 23,
   "id": "d5b4fb01",
   "metadata": {},
   "outputs": [],
   "source": [
    "X_train_norm = ((X_train**2).sum(axis=1)**.5).reshape(-1,1)\n",
    "X_test_norm = ((X_test**2).sum(axis=1)**.5).T"
   ]
  },
  {
   "cell_type": "code",
   "execution_count": 24,
   "id": "119200bb",
   "metadata": {},
   "outputs": [],
   "source": [
    "dist_matrix = 1 - abs(dot_prods / X_train_norm.reshape(-1,1) / X_test_norm)"
   ]
  },
  {
   "cell_type": "code",
   "execution_count": 25,
   "id": "283e225a",
   "metadata": {},
   "outputs": [],
   "source": [
    "def cosine(X_train, X_test):\n",
    "    X_train_norm = ((X_train**2).sum(axis=1)**.5).reshape(-1,1)\n",
    "    X_test_norm = ((X_test**2).sum(axis=1)**.5)\n",
    "    dot_prods = X_train @ X_test.T\n",
    "    dist_matrix = 1 - abs(dot_prods / X_train_norm.reshape(-1,1) / X_test_norm)\n",
    "    return dist_matrix"
   ]
  },
  {
   "cell_type": "code",
   "execution_count": 26,
   "id": "9e5ff4fe",
   "metadata": {},
   "outputs": [],
   "source": [
    "def manhattan(X_train, X_test):\n",
    "    X_train_reshaped = np.expand_dims(X_train, 1)\n",
    "    X_diff = X_train_reshaped - X_test\n",
    "    dist_matrix = abs(X_diff).sum(axis=2)\n",
    "    return dist_matrix"
   ]
  },
  {
   "cell_type": "code",
   "execution_count": 27,
   "id": "6fb674b2",
   "metadata": {},
   "outputs": [
    {
     "data": {
      "text/plain": [
       "array([[ 0.7,  1.2,  0.6, ...,  9.9,  7.3,  7.7],\n",
       "       [ 0.5,  2. ,  0.6, ..., 10.7,  7.5,  8.3],\n",
       "       [ 0.5,  2. ,  0.6, ..., 10.7,  7.3,  8.3],\n",
       "       ...,\n",
       "       [ 7.2,  7.1,  7.5, ...,  3.4,  1.8,  1.4],\n",
       "       [ 7.8,  6.9,  7.3, ...,  3.4,  2. ,  0.4],\n",
       "       [ 6.3,  6.2,  6.6, ...,  4.3,  1.5,  1.9]])"
      ]
     },
     "execution_count": 27,
     "metadata": {},
     "output_type": "execute_result"
    }
   ],
   "source": [
    "manhattan(X_train, X_test)"
   ]
  },
  {
   "cell_type": "code",
   "execution_count": 28,
   "id": "4e93b2d1",
   "metadata": {},
   "outputs": [],
   "source": [
    "class KNearestNeighbors:\n",
    "    def __init__(self, k, distance_metric=\"euclidean\"):\n",
    "        self.k = k\n",
    "        self.distance_metric = distance_metric\n",
    "\n",
    "    def fit(self, X_train, y_train):\n",
    "        self.X_train = X_train\n",
    "        self.y_train = y_train\n",
    "        \n",
    "        self.X_train_reshaped = np.expand_dims(self.X_train, 1)\n",
    "        self.X_train_norm = ((self.X_train**2).sum(axis=1)**.5).reshape(-1,1)\n",
    "\n",
    "    def _euclidean(self, X_test):\n",
    "        X_diff = self.X_train_reshaped - X_test\n",
    "        dist_matrix = ((X_diff**2).sum(axis=2))**.5\n",
    "        return dist_matrix\n",
    "    \n",
    "    def _cosine(self, X_test):\n",
    "        X_test_norm = ((X_test**2).sum(axis=1)**.5)\n",
    "        dot_prods = X_train @ X_test.T\n",
    "        dist_matrix = 1 - abs(dot_prods / self.X_train_norm.reshape(-1,1) / X_test_norm)\n",
    "        return dist_matrix\n",
    "    \n",
    "    def _manhattan(self, X_test):\n",
    "        X_diff = self.X_train_reshaped - X_test\n",
    "        dist_matrix = abs(X_diff).sum(axis=2)\n",
    "        return dist_matrix\n",
    "\n",
    "    def predict(self, X_test):\n",
    "        pass"
   ]
  },
  {
   "cell_type": "code",
   "execution_count": 29,
   "id": "7aa37f5d",
   "metadata": {},
   "outputs": [
    {
     "name": "stdout",
     "output_type": "stream",
     "text": [
      "ndx [3 1 0 2]\n",
      "a[ndx] [ 4 12 52 99]\n"
     ]
    }
   ],
   "source": [
    "a = np.array([52, 12, 99, 4])\n",
    "ndx = np.argsort(a)\n",
    "print(\"ndx\", ndx)\n",
    "print(\"a[ndx]\", a[ndx])"
   ]
  },
  {
   "cell_type": "code",
   "execution_count": 30,
   "id": "da36a583",
   "metadata": {},
   "outputs": [
    {
     "data": {
      "text/plain": [
       "array([[  9,  38,  28],\n",
       "       [  4,  17,  16],\n",
       "       [ 24,   2,   5],\n",
       "       [ 30,  28,   7],\n",
       "       [ 28,  30,   7],\n",
       "       [ 38,  15,  23],\n",
       "       [ 29,  23,  41],\n",
       "       [  5,  31,  40],\n",
       "       [ 56,  72,  44],\n",
       "       [ 48,  64,  75],\n",
       "       [ 43,  48,  77],\n",
       "       [ 58,  61,  42],\n",
       "       [ 67,  57,  48],\n",
       "       [105, 103,  45],\n",
       "       [ 58,  42,  60],\n",
       "       [ 56,  72,  65],\n",
       "       [ 42,  60,  61],\n",
       "       [ 44,  72,  77],\n",
       "       [ 44,  63,  46],\n",
       "       [ 47,  52,  59],\n",
       "       [ 42,  60,  58],\n",
       "       [ 72,  42,  60],\n",
       "       [112,  81, 113],\n",
       "       [ 96,  81, 112],\n",
       "       [ 66, 107, 100],\n",
       "       [108,  86, 117],\n",
       "       [105, 100, 103],\n",
       "       [ 47, 105,  52],\n",
       "       [ 83,  82,  80],\n",
       "       [118,  96, 114]], dtype=int64)"
      ]
     },
     "execution_count": 30,
     "metadata": {},
     "output_type": "execute_result"
    }
   ],
   "source": [
    "k = 3\n",
    "knn = dist_matrix.argsort(axis=0)[:k, :].T\n",
    "knn"
   ]
  },
  {
   "cell_type": "code",
   "execution_count": 31,
   "id": "595f2aa6",
   "metadata": {},
   "outputs": [
    {
     "data": {
      "text/plain": [
       "array([['Iris-setosa', 'Iris-setosa', 'Iris-setosa'],\n",
       "       ['Iris-setosa', 'Iris-setosa', 'Iris-setosa'],\n",
       "       ['Iris-setosa', 'Iris-setosa', 'Iris-setosa'],\n",
       "       ['Iris-setosa', 'Iris-setosa', 'Iris-setosa'],\n",
       "       ['Iris-setosa', 'Iris-setosa', 'Iris-setosa'],\n",
       "       ['Iris-setosa', 'Iris-setosa', 'Iris-setosa'],\n",
       "       ['Iris-setosa', 'Iris-setosa', 'Iris-setosa'],\n",
       "       ['Iris-setosa', 'Iris-setosa', 'Iris-setosa'],\n",
       "       ['Iris-versicolor', 'Iris-versicolor', 'Iris-versicolor'],\n",
       "       ['Iris-versicolor', 'Iris-versicolor', 'Iris-versicolor'],\n",
       "       ['Iris-versicolor', 'Iris-versicolor', 'Iris-versicolor'],\n",
       "       ['Iris-versicolor', 'Iris-versicolor', 'Iris-versicolor'],\n",
       "       ['Iris-versicolor', 'Iris-versicolor', 'Iris-versicolor'],\n",
       "       ['Iris-virginica', 'Iris-virginica', 'Iris-versicolor'],\n",
       "       ['Iris-versicolor', 'Iris-versicolor', 'Iris-versicolor'],\n",
       "       ['Iris-versicolor', 'Iris-versicolor', 'Iris-versicolor'],\n",
       "       ['Iris-versicolor', 'Iris-versicolor', 'Iris-versicolor'],\n",
       "       ['Iris-versicolor', 'Iris-versicolor', 'Iris-versicolor'],\n",
       "       ['Iris-versicolor', 'Iris-versicolor', 'Iris-versicolor'],\n",
       "       ['Iris-versicolor', 'Iris-versicolor', 'Iris-versicolor'],\n",
       "       ['Iris-versicolor', 'Iris-versicolor', 'Iris-versicolor'],\n",
       "       ['Iris-versicolor', 'Iris-versicolor', 'Iris-versicolor'],\n",
       "       ['Iris-virginica', 'Iris-virginica', 'Iris-virginica'],\n",
       "       ['Iris-virginica', 'Iris-virginica', 'Iris-virginica'],\n",
       "       ['Iris-versicolor', 'Iris-virginica', 'Iris-virginica'],\n",
       "       ['Iris-virginica', 'Iris-virginica', 'Iris-virginica'],\n",
       "       ['Iris-virginica', 'Iris-virginica', 'Iris-virginica'],\n",
       "       ['Iris-versicolor', 'Iris-virginica', 'Iris-versicolor'],\n",
       "       ['Iris-virginica', 'Iris-virginica', 'Iris-virginica'],\n",
       "       ['Iris-virginica', 'Iris-virginica', 'Iris-virginica']],\n",
       "      dtype=object)"
      ]
     },
     "execution_count": 31,
     "metadata": {},
     "output_type": "execute_result"
    }
   ],
   "source": [
    "y_train[knn]"
   ]
  },
  {
   "cell_type": "code",
   "execution_count": 32,
   "id": "0b3f8d69",
   "metadata": {},
   "outputs": [
    {
     "data": {
      "text/plain": [
       "[Counter({'Iris-setosa': 3}),\n",
       " Counter({'Iris-setosa': 3}),\n",
       " Counter({'Iris-setosa': 3}),\n",
       " Counter({'Iris-setosa': 3}),\n",
       " Counter({'Iris-setosa': 3}),\n",
       " Counter({'Iris-setosa': 3}),\n",
       " Counter({'Iris-setosa': 3}),\n",
       " Counter({'Iris-setosa': 3}),\n",
       " Counter({'Iris-versicolor': 3}),\n",
       " Counter({'Iris-versicolor': 3}),\n",
       " Counter({'Iris-versicolor': 3}),\n",
       " Counter({'Iris-versicolor': 3}),\n",
       " Counter({'Iris-versicolor': 3}),\n",
       " Counter({'Iris-virginica': 2, 'Iris-versicolor': 1}),\n",
       " Counter({'Iris-versicolor': 3}),\n",
       " Counter({'Iris-versicolor': 3}),\n",
       " Counter({'Iris-versicolor': 3}),\n",
       " Counter({'Iris-versicolor': 3}),\n",
       " Counter({'Iris-versicolor': 3}),\n",
       " Counter({'Iris-versicolor': 3}),\n",
       " Counter({'Iris-versicolor': 3}),\n",
       " Counter({'Iris-versicolor': 3}),\n",
       " Counter({'Iris-virginica': 3}),\n",
       " Counter({'Iris-virginica': 3}),\n",
       " Counter({'Iris-versicolor': 1, 'Iris-virginica': 2}),\n",
       " Counter({'Iris-virginica': 3}),\n",
       " Counter({'Iris-virginica': 3}),\n",
       " Counter({'Iris-versicolor': 2, 'Iris-virginica': 1}),\n",
       " Counter({'Iris-virginica': 3}),\n",
       " Counter({'Iris-virginica': 3})]"
      ]
     },
     "execution_count": 32,
     "metadata": {},
     "output_type": "execute_result"
    }
   ],
   "source": [
    "list(map(Counter, y_train[knn]))"
   ]
  },
  {
   "cell_type": "code",
   "execution_count": 33,
   "id": "b8d8bc6d",
   "metadata": {},
   "outputs": [
    {
     "data": {
      "text/plain": [
       "array(['Iris-setosa', 'Iris-setosa', 'Iris-setosa', 'Iris-setosa',\n",
       "       'Iris-setosa', 'Iris-setosa', 'Iris-setosa', 'Iris-setosa',\n",
       "       'Iris-versicolor', 'Iris-versicolor', 'Iris-versicolor',\n",
       "       'Iris-versicolor', 'Iris-versicolor', 'Iris-virginica',\n",
       "       'Iris-versicolor', 'Iris-versicolor', 'Iris-versicolor',\n",
       "       'Iris-versicolor', 'Iris-versicolor', 'Iris-versicolor',\n",
       "       'Iris-versicolor', 'Iris-versicolor', 'Iris-virginica',\n",
       "       'Iris-virginica', 'Iris-virginica', 'Iris-virginica',\n",
       "       'Iris-virginica', 'Iris-versicolor', 'Iris-virginica',\n",
       "       'Iris-virginica'], dtype='<U15')"
      ]
     },
     "execution_count": 33,
     "metadata": {},
     "output_type": "execute_result"
    }
   ],
   "source": [
    "def majority_voting(votes):\n",
    "    count = Counter(votes)\n",
    "    return count.most_common(1)[0][0] # most_common(n) returns a list with the n most recurring votes (n=1 -> top vote)\n",
    "\n",
    "np.array(list(map(majority_voting, y_train[knn])))\n",
    "np.array([ majority_voting(y_train[knn][i]) for i in range(len(y_train[knn])) ])"
   ]
  },
  {
   "cell_type": "code",
   "execution_count": 34,
   "id": "596c7367",
   "metadata": {},
   "outputs": [],
   "source": [
    "def _majority_voting(votes):\n",
    "    count = Counter(votes)\n",
    "    return count.most_common(1)[0][0] # most_common(n) returns a list with the n most recurring votes (n=1 -> top vote)\n",
    "\n",
    "class KNearestNeighbors:\n",
    "    def __init__(self, k, distance_metric=\"euclidean\"):\n",
    "        self.k = k\n",
    "        self.distance_metric = distance_metric\n",
    "\n",
    "    def fit(self, X_train, y_train):\n",
    "        self.X_train = X_train\n",
    "        self.y_train = y_train\n",
    "        \n",
    "        self.X_train_reshaped = np.expand_dims(self.X_train, 1)\n",
    "        self.X_train_norm = ((self.X_train**2).sum(axis=1)**.5).reshape(-1,1)\n",
    "        \n",
    "    def _euclidean(self, X_test):\n",
    "        X_diff = self.X_train_reshaped - X_test\n",
    "        dist_matrix = ((X_diff**2).sum(axis=2))**.5\n",
    "        \n",
    "        return dist_matrix\n",
    "    \n",
    "    def _cosine(self, X_test):\n",
    "        X_test_norm = ((X_test**2).sum(axis=1)**.5).T\n",
    "        dot_prods = X_train @ X_test.T\n",
    "        dist_matrix = 1 - abs(dot_prods / self.X_train_norm.reshape(-1,1) / X_test_norm)\n",
    "        \n",
    "        return dist_matrix\n",
    "    \n",
    "    def _manhattan(self, X_test):\n",
    "        X_diff = self.X_train_reshaped - X_test\n",
    "        dist_matrix = abs(X_diff).sum(axis=2)\n",
    "        return dist_matrix\n",
    "\n",
    "    def predict(self, X_test):\n",
    "        if self.distance_metric == \"euclidean\":\n",
    "            dist_matrix = self._euclidean(X_test)\n",
    "        elif self.distance_metric == \"cosine\":\n",
    "            dist_matrix = self._cosine(X_test)\n",
    "        elif self.distance_metric == \"manhattan\":\n",
    "            dist_matrix = self._manhattan(X_test)\n",
    "        else:\n",
    "            raise Exception(\"Unknown distance metric\")\n",
    "        knn = dist_matrix.argsort(axis=0)[:self.k, :].T\n",
    "        y_pred = np.array([ majority_voting(self.y_train[knn][i]) for i in range(len(self.y_train[knn])) ])\n",
    "        \n",
    "        return y_pred"
   ]
  },
  {
   "cell_type": "code",
   "execution_count": 35,
   "id": "fbd9e463",
   "metadata": {},
   "outputs": [
    {
     "data": {
      "text/plain": [
       "array(['Iris-setosa', 'Iris-setosa', 'Iris-setosa', 'Iris-setosa',\n",
       "       'Iris-setosa', 'Iris-setosa', 'Iris-setosa', 'Iris-setosa',\n",
       "       'Iris-versicolor', 'Iris-versicolor', 'Iris-versicolor',\n",
       "       'Iris-versicolor', 'Iris-versicolor', 'Iris-virginica',\n",
       "       'Iris-versicolor', 'Iris-versicolor', 'Iris-versicolor',\n",
       "       'Iris-versicolor', 'Iris-versicolor', 'Iris-versicolor',\n",
       "       'Iris-versicolor', 'Iris-versicolor', 'Iris-virginica',\n",
       "       'Iris-virginica', 'Iris-virginica', 'Iris-virginica',\n",
       "       'Iris-virginica', 'Iris-versicolor', 'Iris-virginica',\n",
       "       'Iris-virginica'], dtype='<U15')"
      ]
     },
     "execution_count": 35,
     "metadata": {},
     "output_type": "execute_result"
    }
   ],
   "source": [
    "knn_model = KNearestNeighbors(3, \"cosine\")\n",
    "knn_model.fit(X_train, y_train)\n",
    "y_pred = knn_model.predict(X_test)\n",
    "y_pred"
   ]
  },
  {
   "cell_type": "code",
   "execution_count": 36,
   "id": "22421c76",
   "metadata": {},
   "outputs": [
    {
     "data": {
      "text/plain": [
       "0.9333333333333333"
      ]
     },
     "execution_count": 36,
     "metadata": {},
     "output_type": "execute_result"
    }
   ],
   "source": [
    "def accuracy_score(y_true, y_pred):\n",
    "    return (y_true==y_pred).sum()/len(y_true)\n",
    "\n",
    "accuracy_score(y_test, y_pred)"
   ]
  }
 ],
 "metadata": {
  "kernelspec": {
   "display_name": "Python 3 (ipykernel)",
   "language": "python",
   "name": "python3"
  },
  "language_info": {
   "codemirror_mode": {
    "name": "ipython",
    "version": 3
   },
   "file_extension": ".py",
   "mimetype": "text/x-python",
   "name": "python",
   "nbconvert_exporter": "python",
   "pygments_lexer": "ipython3",
   "version": "3.9.12"
  }
 },
 "nbformat": 4,
 "nbformat_minor": 5
}
